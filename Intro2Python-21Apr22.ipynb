{
 "cells": [
  {
   "cell_type": "markdown",
   "id": "772e56bb",
   "metadata": {},
   "source": [
    "#### Introduction to Python Training"
   ]
  },
  {
   "cell_type": "code",
   "execution_count": 1,
   "id": "d0a08507",
   "metadata": {},
   "outputs": [],
   "source": [
    "# our first Python code (THIS IS A COMMENT)\n",
    "# \"#\" in a CODE cell refers to a comment\n",
    "# in the previous MARKDOWN cell \"#\" refers to the SIZE of the heading"
   ]
  },
  {
   "cell_type": "code",
   "execution_count": 2,
   "id": "90aeb4e2",
   "metadata": {},
   "outputs": [
    {
     "name": "stdout",
     "output_type": "stream",
     "text": [
      "hello world!\n"
     ]
    }
   ],
   "source": [
    "print(\"hello world!\") # a simple display message"
   ]
  },
  {
   "cell_type": "code",
   "execution_count": 3,
   "id": "679883b2",
   "metadata": {},
   "outputs": [
    {
     "name": "stdout",
     "output_type": "stream",
     "text": [
      "Barry\n"
     ]
    }
   ],
   "source": [
    "# Exercise - please go ahead and print out your name\n",
    "print(\"Barry\")"
   ]
  },
  {
   "cell_type": "code",
   "execution_count": 4,
   "id": "7a36a7e8",
   "metadata": {},
   "outputs": [
    {
     "name": "stdout",
     "output_type": "stream",
     "text": [
      "\"hello world again!\"\n"
     ]
    }
   ],
   "source": [
    "# what if I want to print double quotes as well ?\n",
    "print('\"hello world again!\"')"
   ]
  },
  {
   "cell_type": "code",
   "execution_count": 6,
   "id": "ff8b6663",
   "metadata": {},
   "outputs": [
    {
     "name": "stdout",
     "output_type": "stream",
     "text": [
      "Hello with a \" inside a sentence\n"
     ]
    }
   ],
   "source": [
    "# use of a single \" inside a text string\n",
    "# (use of \\ as an ESCAPE character)\n",
    "print(\"Hello with a \\\" inside a sentence\")"
   ]
  },
  {
   "cell_type": "markdown",
   "id": "c4f0999b",
   "metadata": {},
   "source": [
    "#### Variables"
   ]
  },
  {
   "cell_type": "markdown",
   "id": "abb6e255",
   "metadata": {},
   "source": [
    "variable is a type of \"identfier\""
   ]
  },
  {
   "cell_type": "code",
   "execution_count": 7,
   "id": "bcce6f32",
   "metadata": {},
   "outputs": [
    {
     "name": "stdout",
     "output_type": "stream",
     "text": [
      "Barry\n"
     ]
    }
   ],
   "source": [
    "myVar = \"Barry\" # myVar is a variable, we are assigning \"Barry\" to myVar\n",
    "print(myVar)"
   ]
  },
  {
   "cell_type": "code",
   "execution_count": 8,
   "id": "4ad56494",
   "metadata": {
    "collapsed": true
   },
   "outputs": [
    {
     "ename": "SyntaxError",
     "evalue": "invalid syntax (<ipython-input-8-5791c8b4a845>, line 2)",
     "output_type": "error",
     "traceback": [
      "\u001b[1;36m  File \u001b[1;32m\"<ipython-input-8-5791c8b4a845>\"\u001b[1;36m, line \u001b[1;32m2\u001b[0m\n\u001b[1;33m    lambda = \"Barry\"\u001b[0m\n\u001b[1;37m           ^\u001b[0m\n\u001b[1;31mSyntaxError\u001b[0m\u001b[1;31m:\u001b[0m invalid syntax\n"
     ]
    }
   ],
   "source": [
    "# NB dont use Python keywords as variables!\n",
    "lambda = \"Barry\"\n",
    "print(lambda) "
   ]
  },
  {
   "cell_type": "markdown",
   "id": "3207e1b9",
   "metadata": {},
   "source": [
    "error is a result of lambda being a reserved Python keyword"
   ]
  },
  {
   "cell_type": "code",
   "execution_count": 9,
   "id": "fc881038",
   "metadata": {},
   "outputs": [
    {
     "name": "stdout",
     "output_type": "stream",
     "text": [
      "this is another message\n"
     ]
    }
   ],
   "source": [
    "# Exercise - please display another message, \n",
    "# using a variable and a comment\n",
    "myMsg = \"this is another message\" # myMsg is a variable, \n",
    "# we are assigning \"this is another message\" to myMsg\n",
    "print(myMsg)"
   ]
  },
  {
   "cell_type": "code",
   "execution_count": 13,
   "id": "430ff7a7",
   "metadata": {},
   "outputs": [
    {
     "name": "stdout",
     "output_type": "stream",
     "text": [
      "Enter name: Barry\n",
      "Hello Barry!\n"
     ]
    }
   ],
   "source": [
    "# user prompts - use the \"input\" keyword to ASK a user to input\n",
    "# a value we want to \"process\" afterwards\n",
    "\n",
    "myName = input(\"Enter name: \")\n",
    "\n",
    "outputMsg = \"Hello \" + myName + \"!\" \n",
    "# \"+\"\" is used to concatenate the user input with \"Hello\" and \"!\"\n",
    "\n",
    "print(outputMsg)"
   ]
  },
  {
   "cell_type": "code",
   "execution_count": null,
   "id": "895ccb7d",
   "metadata": {},
   "outputs": [],
   "source": [
    "# Exercise - see if you can write some Python code which prompts user\n",
    "# for their name, job role, company and then displays a message"
   ]
  },
  {
   "cell_type": "code",
   "execution_count": 11,
   "id": "2b571162",
   "metadata": {},
   "outputs": [
    {
     "name": "stdout",
     "output_type": "stream",
     "text": [
      "Enter name: Barry\n",
      "Enter role: Data Analyst\n",
      "Enter company: Pairview\n",
      "Hello Barry, you work as a Data Analyst at Pairview.\n"
     ]
    }
   ],
   "source": [
    "myName = input(\"Enter name: \")\n",
    "myJob = input(\"Enter role: \")\n",
    "myCompany = input(\"Enter company: \")\n",
    "\n",
    "print(\"Hello \" + myName + \", you work as a \" + myJob + \" at \" + myCompany + \".\")"
   ]
  },
  {
   "cell_type": "markdown",
   "id": "ec3fa79c",
   "metadata": {},
   "source": [
    "#### Operators & Conditionals"
   ]
  },
  {
   "cell_type": "code",
   "execution_count": 1,
   "id": "643c4d6e",
   "metadata": {
    "collapsed": true
   },
   "outputs": [
    {
     "name": "stdout",
     "output_type": "stream",
     "text": [
      "15\n",
      "5\n",
      "50\n",
      "2.0\n",
      "100000\n"
     ]
    }
   ],
   "source": [
    "# arithmetic operators\n",
    "a = 10\n",
    "b = 5\n",
    "\n",
    "print(a + b) # addition\n",
    "print(a - b) # subtract\n",
    "print(a * b) # multiply\n",
    "print(a / b) # divide (results in a float)\n",
    "print(a ** b) # to the power of"
   ]
  },
  {
   "cell_type": "code",
   "execution_count": 6,
   "id": "2529dbdb",
   "metadata": {},
   "outputs": [],
   "source": [
    "# Conditionals\n",
    "\n",
    "var = 100\n",
    "\n",
    "# condition being tested is var > 101 true ?\n",
    "if var > 101:\n",
    "    print(var, \"is greater than\", 101)        "
   ]
  },
  {
   "cell_type": "markdown",
   "id": "09fbb156",
   "metadata": {},
   "source": [
    "nothing happens as we have no ELSE condition (and 100 is NOT > 101)"
   ]
  },
  {
   "cell_type": "code",
   "execution_count": 9,
   "id": "92c14746",
   "metadata": {},
   "outputs": [
    {
     "name": "stdout",
     "output_type": "stream",
     "text": [
      "no\n"
     ]
    }
   ],
   "source": [
    "# if...else\n",
    "\n",
    "gameActive = False # Boolean\n",
    "canEdit = False # Boolean\n",
    "\n",
    "# gameActive or canEdit MEANS if gameActive == True OR canEdit == True\n",
    "if gameActive or canEdit:\n",
    "    print(\"yes\")\n",
    "else:\n",
    "    print(\"no\")"
   ]
  },
  {
   "cell_type": "code",
   "execution_count": 13,
   "id": "5fc36596",
   "metadata": {},
   "outputs": [
    {
     "name": "stdout",
     "output_type": "stream",
     "text": [
      "Enter a: gfsda\n",
      "Enter b: hgdf\n",
      "b is greater than a\n"
     ]
    }
   ],
   "source": [
    "# Exercise - write an IF statement which asks/prompts the user for two different numbers\n",
    "# and displays the relationship b/w the numbers i.e. a > b, b>a or a == b\n",
    "\n",
    "a = input(\"Enter a: \")\n",
    "b = input(\"Enter b: \")\n",
    "\n",
    "if a > b:\n",
    "    print(\"a is greater than b\")\n",
    "elif b > a:\n",
    "    print(\"b is greater than a\")\n",
    "elif a == b:\n",
    "    print(\"a is equal to b\")\n",
    "else:\n",
    "    print(\"error - how can this happen ??\")"
   ]
  },
  {
   "cell_type": "code",
   "execution_count": null,
   "id": "2a34fef9",
   "metadata": {},
   "outputs": [],
   "source": [
    "# Stretch exercise - can you add an error handler for invalid text entries ?"
   ]
  },
  {
   "cell_type": "code",
   "execution_count": 16,
   "id": "eb852e21",
   "metadata": {},
   "outputs": [
    {
     "name": "stdout",
     "output_type": "stream",
     "text": [
      "Enter a: dfg\n",
      "needs to be a number!\n"
     ]
    }
   ],
   "source": [
    "# try..except as an error handler for text entries\n",
    "try:\n",
    "    a = int(input(\"Enter a: \")) # coerces user input to an integer\n",
    "    b = int(input(\"Enter b: \")) # coerces user input to an integer\n",
    "\n",
    "    if a > b:\n",
    "        print(\"a is greater than b\")\n",
    "    elif b > a:\n",
    "        print(\"b is greater than a\")\n",
    "    elif a == b:\n",
    "        print(\"a is equal to b\")\n",
    "    else:\n",
    "        print(\"error - how can this happen ??\")\n",
    "        \n",
    "except:\n",
    "    print(\"needs to be a number!\")"
   ]
  },
  {
   "cell_type": "markdown",
   "id": "4ba620a6",
   "metadata": {},
   "source": [
    "#### Lists"
   ]
  },
  {
   "cell_type": "code",
   "execution_count": 18,
   "id": "c3259388",
   "metadata": {},
   "outputs": [
    {
     "data": {
      "text/plain": [
       "['Simi', 'Green', 'Business Consultant', 'Pairview']"
      ]
     },
     "execution_count": 18,
     "metadata": {},
     "output_type": "execute_result"
    }
   ],
   "source": [
    "# creating a list\n",
    "\n",
    "myFirstList = [\"Simi\", \"Green\", \"Business Consultant\", \"Pairview\"]\n",
    "myFirstList # same as print(myFirstList)"
   ]
  },
  {
   "cell_type": "code",
   "execution_count": 19,
   "id": "dae85ef3",
   "metadata": {},
   "outputs": [
    {
     "data": {
      "text/plain": [
       "'Business Consultant'"
      ]
     },
     "execution_count": 19,
     "metadata": {},
     "output_type": "execute_result"
    }
   ],
   "source": [
    "# indexing - Python uses ZERO-BASED indexing\n",
    "myFirstList[2]"
   ]
  },
  {
   "cell_type": "code",
   "execution_count": 20,
   "id": "9b4a74ef",
   "metadata": {},
   "outputs": [
    {
     "data": {
      "text/plain": [
       "['Green', 'Business Consultant', 'Pairview']"
      ]
     },
     "execution_count": 20,
     "metadata": {},
     "output_type": "execute_result"
    }
   ],
   "source": [
    "# Exercise - display a range in the list from \"Green\" to \"Pairview\"\n",
    "myFirstList[1:]"
   ]
  },
  {
   "cell_type": "code",
   "execution_count": 21,
   "id": "3279c84b",
   "metadata": {},
   "outputs": [
    {
     "data": {
      "text/plain": [
       "['Green', 'Business Consultant', 'Pairview']"
      ]
     },
     "execution_count": 21,
     "metadata": {},
     "output_type": "execute_result"
    }
   ],
   "source": [
    "myFirstList[1:4] # same as above, but be careful - the last index is EXCLUDED"
   ]
  },
  {
   "cell_type": "code",
   "execution_count": 22,
   "id": "774be9a4",
   "metadata": {},
   "outputs": [
    {
     "data": {
      "text/plain": [
       "['Green', 'Business Consultant']"
      ]
     },
     "execution_count": 22,
     "metadata": {},
     "output_type": "execute_result"
    }
   ],
   "source": [
    "myFirstList[1:3] # only returns values in index position 1 and 2"
   ]
  },
  {
   "cell_type": "code",
   "execution_count": 23,
   "id": "8bf3077e",
   "metadata": {},
   "outputs": [
    {
     "data": {
      "text/plain": [
       "['Business Consultant', 'Pairview']"
      ]
     },
     "execution_count": 23,
     "metadata": {},
     "output_type": "execute_result"
    }
   ],
   "source": [
    "# what is this going to do ?\n",
    "myFirstList[-2:]"
   ]
  },
  {
   "cell_type": "markdown",
   "id": "742dab8d",
   "metadata": {},
   "source": [
    "above goes back 2 from the end (RHS) of the list and returns ALL \n",
    "values from that point on"
   ]
  },
  {
   "cell_type": "code",
   "execution_count": 27,
   "id": "b83b4d0b",
   "metadata": {},
   "outputs": [
    {
     "data": {
      "text/plain": [
       "['Pairview', 'Business Consultant', 'Green', 'Simi']"
      ]
     },
     "execution_count": 27,
     "metadata": {},
     "output_type": "execute_result"
    }
   ],
   "source": [
    "myFirstList[::-1] # reverses the list - can also use .reverse"
   ]
  },
  {
   "cell_type": "code",
   "execution_count": 28,
   "id": "a83d7283",
   "metadata": {},
   "outputs": [
    {
     "data": {
      "text/plain": [
       "['Pairview', 'Green']"
      ]
     },
     "execution_count": 28,
     "metadata": {},
     "output_type": "execute_result"
    }
   ],
   "source": [
    "myFirstList[::-2] # last number is step size"
   ]
  },
  {
   "cell_type": "code",
   "execution_count": 3,
   "id": "c725d59b",
   "metadata": {},
   "outputs": [],
   "source": [
    "# another list\n",
    "bicycles = [\"mountain\", \n",
    "            \"racing\",\n",
    "            \"hybrid\",\n",
    "            \"road\",\n",
    "            \"penny-farthing\"]"
   ]
  },
  {
   "cell_type": "code",
   "execution_count": null,
   "id": "37396d2b",
   "metadata": {},
   "outputs": [],
   "source": [
    "# Exercise -\n",
    "# a) return \"racing\", \"hybrid\", \"road\"\n",
    "# b) sort the list"
   ]
  },
  {
   "cell_type": "code",
   "execution_count": 30,
   "id": "440efb0b",
   "metadata": {},
   "outputs": [
    {
     "data": {
      "text/plain": [
       "['racing', 'hybrid', 'road']"
      ]
     },
     "execution_count": 30,
     "metadata": {},
     "output_type": "execute_result"
    }
   ],
   "source": [
    "# a) return \"racing\", \"hybrid\", \"road\"\n",
    "bicycles[1:4]"
   ]
  },
  {
   "cell_type": "code",
   "execution_count": 31,
   "id": "83e19416",
   "metadata": {},
   "outputs": [
    {
     "data": {
      "text/plain": [
       "['racing', 'hybrid', 'road']"
      ]
     },
     "execution_count": 31,
     "metadata": {},
     "output_type": "execute_result"
    }
   ],
   "source": [
    "# aside - same\n",
    "# a) return \"racing\", \"hybrid\", \"road\"\n",
    "bicycles[1:-1]"
   ]
  },
  {
   "cell_type": "code",
   "execution_count": 32,
   "id": "2ee05cc8",
   "metadata": {},
   "outputs": [
    {
     "data": {
      "text/plain": [
       "['racing', 'hybrid', 'road']"
      ]
     },
     "execution_count": 32,
     "metadata": {},
     "output_type": "execute_result"
    }
   ],
   "source": [
    "# same again\n",
    "bicycles[-4:-1]"
   ]
  },
  {
   "cell_type": "code",
   "execution_count": 33,
   "id": "7de4bfe3",
   "metadata": {},
   "outputs": [
    {
     "data": {
      "text/plain": [
       "['racing', 'hybrid', 'road']"
      ]
     },
     "execution_count": 33,
     "metadata": {},
     "output_type": "execute_result"
    }
   ],
   "source": [
    "bicycles[1:len(bicycles)-1]"
   ]
  },
  {
   "cell_type": "code",
   "execution_count": 55,
   "id": "82130822",
   "metadata": {},
   "outputs": [
    {
     "data": {
      "text/plain": [
       "4"
      ]
     },
     "execution_count": 55,
     "metadata": {},
     "output_type": "execute_result"
    }
   ],
   "source": [
    "# aside\n",
    "len(bicycles)-1"
   ]
  },
  {
   "cell_type": "code",
   "execution_count": 34,
   "id": "32f238f9",
   "metadata": {},
   "outputs": [
    {
     "data": {
      "text/plain": [
       "['hybrid', 'mountain', 'penny-farthing', 'racing', 'road']"
      ]
     },
     "execution_count": 34,
     "metadata": {},
     "output_type": "execute_result"
    }
   ],
   "source": [
    "# b) sort the list\n",
    "bicycles.sort()\n",
    "bicycles"
   ]
  },
  {
   "cell_type": "markdown",
   "id": "9df72e26",
   "metadata": {},
   "source": [
    "above is sorted in alphabetical order"
   ]
  },
  {
   "cell_type": "markdown",
   "id": "0cce5161",
   "metadata": {},
   "source": [
    "NB .sort above is a METHOD - a type of function defined inside a Class object"
   ]
  },
  {
   "cell_type": "markdown",
   "id": "632b4156",
   "metadata": {},
   "source": [
    "to see other METHODS, type out the variable (list name), enter \".\" and press \"tab\""
   ]
  },
  {
   "cell_type": "code",
   "execution_count": 35,
   "id": "35636627",
   "metadata": {},
   "outputs": [
    {
     "data": {
      "text/plain": [
       "['hybrid', 'penny-farthing', 'road']"
      ]
     },
     "execution_count": 35,
     "metadata": {},
     "output_type": "execute_result"
    }
   ],
   "source": [
    "# advanced - how to display non-continguous values in a list ?\n",
    "[bicycles[x] for x in [0,2,4]]"
   ]
  },
  {
   "cell_type": "markdown",
   "id": "3487b0d8",
   "metadata": {},
   "source": [
    "#### Tuples"
   ]
  },
  {
   "cell_type": "markdown",
   "id": "c1381d7f",
   "metadata": {},
   "source": [
    "REMEMBER tuples are IMMUTABLE (they can't be changed) and they use ROUND brackets"
   ]
  },
  {
   "cell_type": "code",
   "execution_count": 1,
   "id": "42f5c8bf",
   "metadata": {},
   "outputs": [],
   "source": [
    "myTuple = (35,\n",
    "           \"Data Science\",\n",
    "           [1,2,3,4],\n",
    "           (43,9))"
   ]
  },
  {
   "cell_type": "code",
   "execution_count": 37,
   "id": "79561a83",
   "metadata": {},
   "outputs": [
    {
     "data": {
      "text/plain": [
       "[1, 2, 3, 4]"
      ]
     },
     "execution_count": 37,
     "metadata": {},
     "output_type": "execute_result"
    }
   ],
   "source": [
    "# accessng a tuple is similar to accessing a list\n",
    "myTuple[2]"
   ]
  },
  {
   "cell_type": "code",
   "execution_count": 42,
   "id": "a0817a60",
   "metadata": {},
   "outputs": [
    {
     "data": {
      "text/plain": [
       "'Barry'"
      ]
     },
     "execution_count": 42,
     "metadata": {},
     "output_type": "execute_result"
    }
   ],
   "source": [
    "# Exercise - how do we get the 2nd item in the list within the tuple\n",
    "myTuple[2][1] # 2 and 1 are indices, the 2 refers to the sublist in the \n",
    "# tuple (in position 2) and the 1 refers to the value in position 1 \n",
    "# in the sublist"
   ]
  },
  {
   "cell_type": "code",
   "execution_count": null,
   "id": "b1fbfaf3",
   "metadata": {},
   "outputs": [],
   "source": [
    "# HOMEWORK - try to change the tuple to see what happens"
   ]
  },
  {
   "cell_type": "code",
   "execution_count": 2,
   "id": "2fbf78e6",
   "metadata": {},
   "outputs": [
    {
     "ename": "AttributeError",
     "evalue": "'tuple' object has no attribute 'append'",
     "output_type": "error",
     "traceback": [
      "\u001b[1;31m---------------------------------------------------------------------------\u001b[0m",
      "\u001b[1;31mAttributeError\u001b[0m                            Traceback (most recent call last)",
      "\u001b[1;32m<ipython-input-2-a2c3d66ee90c>\u001b[0m in \u001b[0;36m<module>\u001b[1;34m\u001b[0m\n\u001b[1;32m----> 1\u001b[1;33m \u001b[0mmyTuple\u001b[0m\u001b[1;33m.\u001b[0m\u001b[0mappend\u001b[0m\u001b[1;33m(\u001b[0m\u001b[1;34m\"Barry\"\u001b[0m\u001b[1;33m)\u001b[0m\u001b[1;33m\u001b[0m\u001b[1;33m\u001b[0m\u001b[0m\n\u001b[0m",
      "\u001b[1;31mAttributeError\u001b[0m: 'tuple' object has no attribute 'append'"
     ]
    }
   ],
   "source": [
    "# for example...\n",
    "myTuple.append(\"Barry\")"
   ]
  },
  {
   "cell_type": "code",
   "execution_count": 4,
   "id": "b8b6f6f8",
   "metadata": {},
   "outputs": [],
   "source": [
    "# in contrast to lists...\n",
    "bicycles.append(\"scooter\")"
   ]
  },
  {
   "cell_type": "code",
   "execution_count": 5,
   "id": "d85b3c57",
   "metadata": {},
   "outputs": [
    {
     "data": {
      "text/plain": [
       "['mountain', 'racing', 'hybrid', 'road', 'penny-farthing', 'scooter']"
      ]
     },
     "execution_count": 5,
     "metadata": {},
     "output_type": "execute_result"
    }
   ],
   "source": [
    "bicycles # have a look"
   ]
  },
  {
   "cell_type": "markdown",
   "id": "5c0cb624",
   "metadata": {},
   "source": [
    "#### Dictionaries"
   ]
  },
  {
   "cell_type": "code",
   "execution_count": 45,
   "id": "ac31f59f",
   "metadata": {},
   "outputs": [],
   "source": [
    "# key-value pairs\n",
    "myCar = {\"make\": \"Mazda\",\n",
    "         \"model\": \"3sport\",\n",
    "         \"engine_size\": 2259,\n",
    "         \"colour\": \"laser blue\",\n",
    "         \"dimensions\": {\"w\": 1795, \"l\": 4465, \"h\": 1465}}"
   ]
  },
  {
   "cell_type": "code",
   "execution_count": 56,
   "id": "34c1de08",
   "metadata": {},
   "outputs": [
    {
     "data": {
      "text/plain": [
       "dict_keys(['make', 'model', 'engine_size', 'colour', 'dimensions'])"
      ]
     },
     "execution_count": 56,
     "metadata": {},
     "output_type": "execute_result"
    }
   ],
   "source": [
    "# aside - display the keys in the dictionary\n",
    "myCar.keys()"
   ]
  },
  {
   "cell_type": "code",
   "execution_count": 46,
   "id": "155f07bd",
   "metadata": {},
   "outputs": [
    {
     "data": {
      "text/plain": [
       "5"
      ]
     },
     "execution_count": 46,
     "metadata": {},
     "output_type": "execute_result"
    }
   ],
   "source": [
    "len(myCar) # check length of dictionary"
   ]
  },
  {
   "cell_type": "code",
   "execution_count": 47,
   "id": "0d237beb",
   "metadata": {},
   "outputs": [
    {
     "data": {
      "text/plain": [
       "4465"
      ]
     },
     "execution_count": 47,
     "metadata": {},
     "output_type": "execute_result"
    }
   ],
   "source": [
    "# what will this return ?\n",
    "myCar[\"dimensions\"][\"l\"] # dimensions \"key\" frmo myCar and return the value\n",
    "# associated with the \"length\" (\"l\") of the car"
   ]
  },
  {
   "cell_type": "markdown",
   "id": "87f4a8ef",
   "metadata": {},
   "source": [
    "above returns the physical length of the car"
   ]
  },
  {
   "cell_type": "code",
   "execution_count": null,
   "id": "622cacab",
   "metadata": {},
   "outputs": [],
   "source": [
    "# Exercise - have a go at writing a python program which prompts the \n",
    "# user for the month of the year and returns the no. of days in that month"
   ]
  },
  {
   "cell_type": "code",
   "execution_count": 11,
   "id": "a4f2ead6",
   "metadata": {},
   "outputs": [
    {
     "name": "stdout",
     "output_type": "stream",
     "text": [
      "which month ? dfsgdfg\n"
     ]
    },
    {
     "ename": "KeyError",
     "evalue": "'Dfsgdfg'",
     "output_type": "error",
     "traceback": [
      "\u001b[1;31m---------------------------------------------------------------------------\u001b[0m",
      "\u001b[1;31mKeyError\u001b[0m                                  Traceback (most recent call last)",
      "\u001b[1;32m<ipython-input-11-29da327abe2a>\u001b[0m in \u001b[0;36m<module>\u001b[1;34m\u001b[0m\n\u001b[0;32m     15\u001b[0m \u001b[1;33m\u001b[0m\u001b[0m\n\u001b[0;32m     16\u001b[0m \u001b[1;31m# NB add .title() method to allow the user to enter the month in any case\u001b[0m\u001b[1;33m\u001b[0m\u001b[1;33m\u001b[0m\u001b[1;33m\u001b[0m\u001b[0m\n\u001b[1;32m---> 17\u001b[1;33m \u001b[0mprint\u001b[0m\u001b[1;33m(\u001b[0m\u001b[0muserInput\u001b[0m\u001b[1;33m,\u001b[0m \u001b[1;34m\"has\"\u001b[0m\u001b[1;33m,\u001b[0m \u001b[0mmyMonths\u001b[0m\u001b[1;33m[\u001b[0m\u001b[0muserInput\u001b[0m\u001b[1;33m.\u001b[0m\u001b[0mtitle\u001b[0m\u001b[1;33m(\u001b[0m\u001b[1;33m)\u001b[0m\u001b[1;33m]\u001b[0m\u001b[1;33m,\u001b[0m \u001b[1;34m\"days\"\u001b[0m\u001b[1;33m)\u001b[0m\u001b[1;33m\u001b[0m\u001b[1;33m\u001b[0m\u001b[0m\n\u001b[0m",
      "\u001b[1;31mKeyError\u001b[0m: 'Dfsgdfg'"
     ]
    }
   ],
   "source": [
    "userInput = input(\"which month ? \")\n",
    "\n",
    "myMonths = {\"Jan\": 31,\n",
    "            \"Feb\": 28,\n",
    "            \"Mar\": 31,\n",
    "            \"Apr\": 30,\n",
    "            \"May\": 31,\n",
    "            \"Jun\": 30,\n",
    "            \"Jul\": 31,\n",
    "            \"Aug\": 31,\n",
    "            \"Sep\": 30,\n",
    "            \"Oct\": 31,\n",
    "            \"Nov\": 30,\n",
    "            \"Dec\": 31}\n",
    "\n",
    "# NB add .title() method to allow the user to enter the month in any case\n",
    "print(userInput, \"has\", myMonths[userInput.title()], \"days\")"
   ]
  },
  {
   "cell_type": "code",
   "execution_count": null,
   "id": "4bf4b5c1",
   "metadata": {},
   "outputs": [],
   "source": [
    "# HOMEWORK - have a go at adding an error handler to the above code\n",
    "# to handle entries which are NOT in the dictionary"
   ]
  },
  {
   "cell_type": "code",
   "execution_count": 12,
   "id": "02745338",
   "metadata": {},
   "outputs": [
    {
     "name": "stdout",
     "output_type": "stream",
     "text": [
      "which month ? dgdfgdsfgs\n",
      "entry not found in our dictionary!\n"
     ]
    }
   ],
   "source": [
    "# try..except as an error handler for text entries\n",
    "try:\n",
    "    userInput = input(\"which month ? \")\n",
    "\n",
    "    myMonths = {\"Jan\": 31,\n",
    "                \"Feb\": 28,\n",
    "                \"Mar\": 31,\n",
    "                \"Apr\": 30,\n",
    "                \"May\": 31,\n",
    "                \"Jun\": 30,\n",
    "                \"Jul\": 31,\n",
    "                \"Aug\": 31,\n",
    "                \"Sep\": 30,\n",
    "                \"Oct\": 31,\n",
    "                \"Nov\": 30,\n",
    "                \"Dec\": 31}\n",
    "\n",
    "    # NB add .title() method to allow the user to enter the month in any case\n",
    "    print(userInput, \"has\", myMonths[userInput.title()], \"days\")\n",
    "except:\n",
    "    print(\"entry not found in our dictionary!\")"
   ]
  },
  {
   "cell_type": "code",
   "execution_count": null,
   "id": "1c4e39a5",
   "metadata": {},
   "outputs": [],
   "source": []
  }
 ],
 "metadata": {
  "kernelspec": {
   "display_name": "Python 3",
   "language": "python",
   "name": "python3"
  },
  "language_info": {
   "codemirror_mode": {
    "name": "ipython",
    "version": 3
   },
   "file_extension": ".py",
   "mimetype": "text/x-python",
   "name": "python",
   "nbconvert_exporter": "python",
   "pygments_lexer": "ipython3",
   "version": "3.8.8"
  }
 },
 "nbformat": 4,
 "nbformat_minor": 5
}
