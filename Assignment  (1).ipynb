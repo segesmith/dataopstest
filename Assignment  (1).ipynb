{
 "cells": [
  {
   "cell_type": "markdown",
   "id": "b8b00102",
   "metadata": {},
   "source": [
    "#### Question 1 "
   ]
  },
  {
   "cell_type": "code",
   "execution_count": 92,
   "id": "0e7f695d",
   "metadata": {},
   "outputs": [
    {
     "name": "stdout",
     "output_type": "stream",
     "text": [
      "Number of  fibonacci to generate? 15\n",
      "[1, 1, 2, 3, 5, 8, 13, 21, 34, 55, 89, 144, 233, 377, 610]\n"
     ]
    }
   ],
   "source": [
    "def gen_fib():\n",
    "    count = int(input(\"Number of  fibonacci to generate? \"))\n",
    "    i = 1\n",
    "    if count == 0:\n",
    "        fib = []\n",
    "    elif count == 1:\n",
    "        fib = [1]\n",
    "    elif count == 2:\n",
    "        fib = [1,1]\n",
    "    elif count > 2:\n",
    "        fib = [1,1]\n",
    "        while i < (count - 1):\n",
    "            fib.append(fib[i] + fib[i-1])\n",
    "            i += 1\n",
    "\n",
    "    return fib \n",
    "print (gen_fib())\n",
    "  "
   ]
  },
  {
   "cell_type": "markdown",
   "id": "3e9941e8",
   "metadata": {},
   "source": [
    "#### Question 2 "
   ]
  },
  {
   "cell_type": "code",
   "execution_count": 2,
   "id": "9b9d28b5",
   "metadata": {},
   "outputs": [
    {
     "name": "stdout",
     "output_type": "stream",
     "text": [
      "Igbosi Seiyefa is name my\n"
     ]
    }
   ],
   "source": [
    "myName = \"my name is Seiyefa Igbosi \"\n",
    "c = myName.split()[::-1]\n",
    "l = []\n",
    "for i in c:\n",
    "    l.append(i)\n",
    "\n",
    "print(\" \".join(l))"
   ]
  },
  {
   "cell_type": "code",
   "execution_count": 13,
   "id": "ad7336df",
   "metadata": {},
   "outputs": [
    {
     "name": "stdout",
     "output_type": "stream",
     "text": [
      "Enter a sentence: my name is Seiyefa Igbosi \n",
      " Igbosi Seiyefa is name my\n"
     ]
    }
   ],
   "source": [
    "# Function to reverse words of string\n",
    "sentence = input(\"Enter a sentence: \")\n",
    "def rev_sentence(sentence):\n",
    " \n",
    "    words = sentence.split(' ')\n",
    " \n",
    "    reverse_sentence = ' '.join(reversed(words))\n",
    " \n",
    "    return reverse_sentence\n",
    " \n",
    "if __name__ == \"__main__\":\n",
    "    #input_word = \"my name is Seiyefa Igbosi \"  \n",
    "    print(rev_sentence(input_word))"
   ]
  },
  {
   "cell_type": "markdown",
   "id": "e3ff88f6",
   "metadata": {},
   "source": [
    "#### Question 3"
   ]
  },
  {
   "cell_type": "code",
   "execution_count": 18,
   "id": "a6d38435",
   "metadata": {},
   "outputs": [
    {
     "name": "stdout",
     "output_type": "stream",
     "text": [
      "Enter word : rotator\n",
      "Its a palindrome\n"
     ]
    }
   ],
   "source": [
    "def palindrome(s):\n",
    "    return s == s[::-1]\n",
    "\n",
    "myString = input(\"Enter word : \")\n",
    "if palindrome(myString):\n",
    "    print(\"Its a palindrome\")\n",
    "else:\n",
    "    print(\"Its not a palindrome\")"
   ]
  },
  {
   "cell_type": "markdown",
   "id": "11f38296",
   "metadata": {},
   "source": [
    "#### Question 4 "
   ]
  },
  {
   "cell_type": "code",
   "execution_count": 23,
   "id": "fbf1b52c",
   "metadata": {},
   "outputs": [
    {
     "name": "stdout",
     "output_type": "stream",
     "text": [
      "Welcome to the birthday dictionaries. We have the following people:\n",
      "\n",
      "Marcus Isaiah\n",
      "Mohamed Jaber\n",
      "Joseph Yamumgu\n",
      "Benjamin Dokubo\n",
      "Who's birthday you want to know? Joseph Yamumgu\n",
      "\n",
      "Joseph Yamumgu was born on 24 April 1980\n"
     ]
    }
   ],
   "source": [
    "# Creating a dictionary for birthdays\n",
    "birthdays = {\n",
    "    'Marcus Isaiah' : '15 September 1983',\n",
    "    'Mohamed Jaber' : '12 July 1981',\n",
    "    'Joseph Yamumgu' : '24 April 1980',\n",
    "    'Benjamin Dokubo' : '4 Decembr 1981'\n",
    "}\n",
    "\n",
    "# Function to make user ask for name and showing them the birthdays related to their names\n",
    "def birthday_finder(birthdays):\n",
    "    print('Welcome to the birthday dictionaries. We have the following people:\\n')\n",
    "    for x in birthdays:\n",
    "        print (x)\n",
    "\n",
    "    my_celebrant = input(\"Who's birthday you want to know? \")\n",
    "    return '{} was born on {}'.format(my_celebrant, birthdays[my_celebrant])\n",
    "\n",
    "print('\\n' + birthday_finder(birthdays))"
   ]
  },
  {
   "cell_type": "markdown",
   "id": "527c0187",
   "metadata": {},
   "source": [
    "#### Question 5 "
   ]
  },
  {
   "cell_type": "code",
   "execution_count": 28,
   "id": "83354283",
   "metadata": {
    "collapsed": true
   },
   "outputs": [
    {
     "name": "stdout",
     "output_type": "stream",
     "text": [
      "utf-8\n",
      "Vote Is the First on Abortion Since the Supreme Court Ruling\n",
      "Election Victories by Trump Allies Showcase His Grip on the G.O.P. Base\n",
      "This is how abortion rights supporters won in conservative Kansas.\n",
      "Here are five takeaways from Tuesday’s elections.\n",
      "Advertisement\n",
      "As Pelosi Departs Taiwan, Threat of Military Standoff With China Looms\n",
      "Visit Threatens to Undermine U.S. Efforts with Allies in Asia\n",
      "Analysis: In visiting Taiwan, Nancy Pelosi capped a three-decade career of challenging China.\n",
      "How the C.I.A. Tracked the Leader of Al Qaeda\n",
      "Ayman Al-Zawahri’s Death Puts the Focus Back on Al Qaeda\n",
      "Analysis: The killing in Kabul sharpens the focus on President Biden’s Afghanistan strategy.\n",
      "You, Too, Can Strike It Rich on YouTube!\n",
      "Justice Dept. Subpoenas Pat Cipollone, Trump White House Counsel\n",
      "Officials involved in Donald Trump’s effort to falsely claim he had won Arizona feared appearing “treasonous,” emails showed.\n",
      "As Tensions in Asia Rise, Zelensky Treads a Careful Line on China\n",
      "Giuliani Is Unlikely to Face Criminal Charges in Lobbying Inquiry\n",
      "Mexico’s Cruel Drought: ‘Here You Have to Chase the Water’\n",
      "Vin Scully, Voice of the Dodgers for Nearly Seven Decades, Dies at 94\n",
      "U.S. hot spots ›\n",
      "Vaccinations ›\n",
      "Global hot spots ›\n",
      "Cases rising fastest\n",
      "Other trackers\n",
      "Cases rising fastest\n",
      "Other trackers\n",
      "Advertisement\n",
      "Five Minutes That Will Make You Love Duke Ellington\n",
      "Experts weighed in on whether there’s reason to believe that vitamin B6 improves mental health.\n",
      "She was sure she was a lesbian, but just fell for a guy. Now, she’s wondering what to do.\n",
      "Sam Adler-Bell\n",
      "Arizona Just Chose a Senate Candidate More Extreme Than Donald Trump\n",
      "Bret Stephens\n",
      "Pelosi Stood Up to a Bully. Good for Her.\n",
      "Thomas B. Edsall\n",
      "Trump Has Big Plans for 2025\n",
      "‘The Argument’\n",
      "The Bad Faith of the New Religious Right\n",
      "Bob Menendez\n",
      "This Is How the U.S. Will Stand With Taiwan\n",
      "Farah Stockman\n",
      "American Democracy Is Not the Beacon It Once Was for Africa’s Elite\n",
      "Asfandyar Mir\n",
      "America’s Gross Miscalculation of the Taliban\n",
      "Paul Krugman\n",
      "Who’s Embargoing Whom?\n",
      "Nick Burns\n",
      "Elite Universities Are Out of Touch. Blame the Campus.\n",
      "John McWhorter\n",
      "Are Participles a Thing of the Past?\n",
      "Steven Rattner\n",
      "There’s a Miracle in Washington, and It’s All About Taxes\n",
      "Thomas L. Friedman\n",
      "Why Pelosi’s Visit to Taiwan Is Utterly Reckless\n",
      "Zeynep Tufekci\n",
      "I Wish I Could Ask Alaa Abd el-Fattah What He Thinks About the World Now\n",
      "Katherine Miller\n",
      "Liz Cheney Is Prepared to Lose Power, and It Shows\n",
      "Letters From Our Readers\n",
      "The Ukraine War: Negotiate or Fight?\n",
      "Greer Donley and Jill Wieber Lens\n",
      "Why Do We Talk About Miscarriage Differently From Abortion?\n",
      "Advertisement\n",
      "The Morning\n",
      "Listen to ‘The Daily’\n",
      "Listen to ‘Popcast’\n",
      "Read the Where To Eat Newsletter\n",
      "Congress Is Giving Billions to the Chip Industry. Strings Are Attached.\n",
      "‘I Want You to Hear This’: A Sandy Hook Mother Confronts Alex Jones\n",
      "Why So Many Cars Have Rats in Them Now\n",
      "OPEC Plus Members Debate Increase in Oil Production\n",
      "Senate Passes Bill to Expand Benefits for Veterans Exposed to Burn Pits\n",
      "Girl, 12, Escapes Captivity, Leading Alabama Authorities to Find 2 Bodies\n",
      "Another Major Heat Wave Sweeps Central and Northeastern U.S.\n",
      "President Biden to Issue Second Executive Order on Abortion\n",
      "Starbucks Reports Record Revenue, Driven Mostly by Love of Iced Drinks\n",
      "2 New York Representatives Are Reluctant Foes in Democratic Debate\n",
      "Boy, 14, Is Found Fatally Shot in a Queens Driveway, Police Say\n",
      "Here’s How to Protect Your Health as Wildfires Intensify\n",
      "Is Makeup Messing Up My Sunscreen?\n",
      "The Foods That Keep You Hydrated\n",
      "How Can Older Adults Stay Safe During a Heat Wave?\n",
      "A Meditation for  Vacation\n",
      "Advertisement\n",
      "The Remarkable ‘Reservation Dogs’ Runs Toward Home\n",
      "When Duty Outlives Love\n",
      "Burt Metcalfe, ‘M*A*S*H’ Showrunner, Dies\n",
      "Late Night: Ayman al-Zawahri’s Death\n",
      "Too Soon to Ask About a Rent Increase?\n",
      "Advertisement\n",
      "Spelling Bee\n",
      "The Crossword\n",
      "Wordle — New!\n",
      "Chess Replay\n",
      "Letter Boxed\n",
      "Tiles\n",
      "\n"
     ]
    }
   ],
   "source": [
    "import requests\n",
    "from bs4 import BeautifulSoup\n",
    "\n",
    "url = 'https://www.nytimes.com/'\n",
    "c = requests.get(url)\n",
    "c_html = c.text\n",
    "\n",
    "print(c.encoding)\n",
    "soup = BeautifulSoup(c_html, 'html.parser')\n",
    "title = soup.findAll(\"h3\")\n",
    "\n",
    "\n",
    "for headline in title:\n",
    "     print(headline.text)\n",
    "print()"
   ]
  },
  {
   "cell_type": "markdown",
   "id": "f8d1c610",
   "metadata": {},
   "source": [
    "#### Question 6"
   ]
  },
  {
   "cell_type": "code",
   "execution_count": 27,
   "id": "f9572ece",
   "metadata": {},
   "outputs": [
    {
     "name": "stdout",
     "output_type": "stream",
     "text": [
      "utf-8\n",
      "Define the file name: my text file \n",
      "Great!!!. File saved as my text file .txt\n"
     ]
    }
   ],
   "source": [
    "import requests\n",
    "from bs4 import BeautifulSoup\n",
    "\n",
    "url = 'https://www.nytimes.com/'\n",
    "c = requests.get(url)\n",
    "c_html = c.text\n",
    "\n",
    "print(c.encoding)\n",
    "soup = BeautifulSoup(c_html, 'html.parser')\n",
    "title = soup.findAll(\"h3\")\n",
    "\n",
    "filename = input(\"Define the file name: \")\n",
    "\n",
    "with open(file_name + 'txt', 'w')as open_file:\n",
    "    for headline in title:\n",
    "        open_file.write(headline.text + '\\n',)\n",
    "print(\"Great!!!. File saved as\", filename +\".txt\")\n"
   ]
  }
 ],
 "metadata": {
  "kernelspec": {
   "display_name": "Python 3 (ipykernel)",
   "language": "python",
   "name": "python3"
  },
  "language_info": {
   "codemirror_mode": {
    "name": "ipython",
    "version": 3
   },
   "file_extension": ".py",
   "mimetype": "text/x-python",
   "name": "python",
   "nbconvert_exporter": "python",
   "pygments_lexer": "ipython3",
   "version": "3.9.7"
  }
 },
 "nbformat": 4,
 "nbformat_minor": 5
}
