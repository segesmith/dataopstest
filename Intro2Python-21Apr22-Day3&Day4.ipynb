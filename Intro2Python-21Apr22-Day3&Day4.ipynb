{
 "cells": [
  {
   "cell_type": "markdown",
   "id": "054c9475",
   "metadata": {},
   "source": [
    "#### For Loops"
   ]
  },
  {
   "cell_type": "code",
   "execution_count": 1,
   "id": "4ee373d2",
   "metadata": {
    "collapsed": true
   },
   "outputs": [
    {
     "name": "stdout",
     "output_type": "stream",
     "text": [
      "0\n",
      "1\n",
      "2\n",
      "3\n",
      "4\n",
      "5\n",
      "6\n",
      "7\n"
     ]
    }
   ],
   "source": [
    "# for loop from 0 to 7\n",
    "for number in range(8): # range(8) means range(0,8) i.e. the numbers from 0 to 7 inclusive\n",
    "    print(number)"
   ]
  },
  {
   "cell_type": "code",
   "execution_count": 2,
   "id": "99f98253",
   "metadata": {},
   "outputs": [
    {
     "name": "stdout",
     "output_type": "stream",
     "text": [
      "2\n",
      "4\n",
      "6\n"
     ]
    }
   ],
   "source": [
    "# adding step size - what will this display ??\n",
    "for number in range(2,8,2): # starts at 2, ends at 8 (exclusive), in steps of 2\n",
    "    print(number)"
   ]
  },
  {
   "cell_type": "markdown",
   "id": "22f9a329",
   "metadata": {},
   "source": [
    "for loops over our bicycles list..."
   ]
  },
  {
   "cell_type": "code",
   "execution_count": 4,
   "id": "4d8d5139",
   "metadata": {},
   "outputs": [],
   "source": [
    "bicycles = [\"mountain\", \n",
    "            \"racing\",\n",
    "            \"hybrid\",\n",
    "            \"road\",\n",
    "            \"penny-farthing\"]"
   ]
  },
  {
   "cell_type": "code",
   "execution_count": 7,
   "id": "ebd98fe7",
   "metadata": {},
   "outputs": [
    {
     "name": "stdout",
     "output_type": "stream",
     "text": [
      "mountain\n",
      "racing\n",
      "hybrid\n",
      "road\n",
      "penny-farthing\n"
     ]
    }
   ],
   "source": [
    "# another use of for to iterate over LISTS\n",
    "# effectively we loop over the length of the list...\n",
    "for counter in bicycles: # NB counter is a VARIABLE of our choice\n",
    "    print(counter)"
   ]
  },
  {
   "cell_type": "code",
   "execution_count": 9,
   "id": "be4131e3",
   "metadata": {},
   "outputs": [
    {
     "name": "stdout",
     "output_type": "stream",
     "text": [
      "mountain\n",
      "racing\n",
      "hybrid\n",
      "road\n",
      "penny-farthing\n"
     ]
    }
   ],
   "source": [
    "# Exercise - see if you can rewrite the last example using \"in range\"\n",
    "for counter in range(len(bicycles)):\n",
    "    print(bicycles[counter])"
   ]
  },
  {
   "cell_type": "code",
   "execution_count": 12,
   "id": "997c3cc7",
   "metadata": {
    "collapsed": true
   },
   "outputs": [
    {
     "name": "stdout",
     "output_type": "stream",
     "text": [
      "1\n",
      "4\n",
      "9\n",
      "16\n",
      "25\n",
      "36\n",
      "49\n",
      "64\n",
      "81\n",
      "100\n"
     ]
    }
   ],
   "source": [
    "# for loop for squaring numbers from 1 to 10\n",
    "\n",
    "myNumber = range(1,11) # OR myNumber = [1,2,3,4,5,6,7,8,9,10,11]\n",
    "\n",
    "for x in myNumber:\n",
    "    print(x ** 2)"
   ]
  },
  {
   "cell_type": "code",
   "execution_count": 13,
   "id": "2da76766",
   "metadata": {
    "collapsed": true
   },
   "outputs": [
    {
     "name": "stdout",
     "output_type": "stream",
     "text": [
      "[5]\n",
      "[5, 6]\n",
      "[5, 6, 7]\n",
      "[5, 6, 7, 8]\n",
      "[5, 6, 7, 8, 9]\n",
      "[5, 6, 7, 8, 9, 10]\n",
      "[5, 6, 7, 8, 9, 10, 11]\n",
      "[5, 6, 7, 8, 9, 10, 11, 12]\n",
      "[5, 6, 7, 8, 9, 10, 11, 12, 13]\n",
      "[5, 6, 7, 8, 9, 10, 11, 12, 13, 14]\n",
      "[5, 6, 7, 8, 9, 10, 11, 12, 13, 14, 15]\n",
      "110\n",
      "11\n",
      "10.0\n"
     ]
    }
   ],
   "source": [
    "# Exercise - write a program which averages numbers from 5 to 15\n",
    "# hint: define a list first\n",
    "\n",
    "myList = [] # an empty list (initialise)\n",
    "\n",
    "# create a list with the numbers 5 to 15\n",
    "for counter in range(5,16):\n",
    "    myList.append(counter)\n",
    "    print(myList) # good for debugging as will display output each iteration\n",
    "\n",
    "myAvg =sum(myList) / len(myList)\n",
    "print(sum(myList))\n",
    "print(len(myList))\n",
    "print(myAvg)"
   ]
  },
  {
   "cell_type": "code",
   "execution_count": 14,
   "id": "5f7d773e",
   "metadata": {},
   "outputs": [
    {
     "data": {
      "text/plain": [
       "10"
      ]
     },
     "execution_count": 14,
     "metadata": {},
     "output_type": "execute_result"
    }
   ],
   "source": [
    "# easier way\n",
    "import statistics as stats # import a statistics library\n",
    "\n",
    "myData = range(5,16)\n",
    "stats.mean(myData)"
   ]
  },
  {
   "cell_type": "markdown",
   "id": "ce3ea98d",
   "metadata": {},
   "source": [
    "#### While loops"
   ]
  },
  {
   "cell_type": "code",
   "execution_count": 15,
   "id": "54464728",
   "metadata": {
    "collapsed": true
   },
   "outputs": [
    {
     "name": "stdout",
     "output_type": "stream",
     "text": [
      "0\n",
      "1\n",
      "2\n",
      "3\n",
      "4\n",
      "5\n",
      "6\n",
      "7\n",
      "8\n",
      "I have escaped the loop\n"
     ]
    }
   ],
   "source": [
    "# simple while loop\n",
    "counter = 0\n",
    "\n",
    "# check the condition is counter less than 9\n",
    "while counter < 9:\n",
    "    print(counter)\n",
    "    counter += 1 # must include an incremental operator for WHILE loops\n",
    "    \n",
    "print(\"I have escaped the loop\")"
   ]
  },
  {
   "cell_type": "code",
   "execution_count": 17,
   "id": "caa84ff1",
   "metadata": {
    "collapsed": true
   },
   "outputs": [
    {
     "name": "stdout",
     "output_type": "stream",
     "text": [
      "10\n",
      "9\n",
      "8\n",
      "7\n",
      "6\n",
      "5\n",
      "4\n",
      "3\n",
      "2\n",
      "1\n",
      "Blast Off!\n"
     ]
    }
   ],
   "source": [
    "# Exercise - ADAPT the above code to print numbers 10 to 1 in reverse (descneding) order\n",
    "# simple while loop\n",
    "counter = 10\n",
    "\n",
    "# check the condition is counter greater than 0\n",
    "while counter > 0:\n",
    "    print(counter)\n",
    "    counter -= 1 # decrement by 1 each time\n",
    "    \n",
    "print(\"Blast Off!\")"
   ]
  },
  {
   "cell_type": "code",
   "execution_count": 18,
   "id": "17a45eeb",
   "metadata": {},
   "outputs": [
    {
     "data": {
      "text/plain": [
       "[10, 9, 8, 7, 6, 5, 4, 3, 2, 1]"
      ]
     },
     "execution_count": 18,
     "metadata": {},
     "output_type": "execute_result"
    }
   ],
   "source": [
    "# a bit more advanced, but more a more elegant solution...\n",
    "\n",
    "myList = [i for i in range(1,11)] # creates numbers 1 to 10 inside a list\n",
    "myList.reverse()\n",
    "myList"
   ]
  },
  {
   "cell_type": "code",
   "execution_count": 20,
   "id": "5e4f9753",
   "metadata": {},
   "outputs": [],
   "source": [
    "# while loop that lets a user choose when to quit a program\n",
    "\n",
    "from IPython.display import clear_output # importing a clear output module from the Jupyter library\n",
    "\n",
    "myMessage = \"\" # an empty string\n",
    "\n",
    "# NB != is not equal to\n",
    "while (myMessage != \"quit\"):\n",
    "    myMessage = input(\"What's your message ? \\n\") # \\n means new line\n",
    "    clear_output() # clears the output display"
   ]
  },
  {
   "cell_type": "markdown",
   "id": "aacfef9e",
   "metadata": {},
   "source": [
    "#### Functions"
   ]
  },
  {
   "cell_type": "code",
   "execution_count": 21,
   "id": "a7b5ba75",
   "metadata": {},
   "outputs": [],
   "source": [
    "# a simple greeting\n",
    "def greetUser():\n",
    "    \"\"\"Display a simple greeting\"\"\" # a commment defined inside a function\n",
    "    print(\"Hello!\")"
   ]
  },
  {
   "cell_type": "code",
   "execution_count": 22,
   "id": "ab0e9027",
   "metadata": {},
   "outputs": [
    {
     "name": "stdout",
     "output_type": "stream",
     "text": [
      "Hello!\n"
     ]
    }
   ],
   "source": [
    "greetUser() # call the function"
   ]
  },
  {
   "cell_type": "code",
   "execution_count": 23,
   "id": "5808d622",
   "metadata": {},
   "outputs": [
    {
     "name": "stdout",
     "output_type": "stream",
     "text": [
      "Enter name: Barry\n",
      "Hello Barry!\n"
     ]
    }
   ],
   "source": [
    "# Exercise - prompt the user for their name a return a display message\n",
    "# do this as a function\n",
    "\n",
    "def greetUserName(myParam):\n",
    "    \"\"\"Display a personalised greeting\"\"\"\n",
    "    outputMsg = \"Hello \" + myParam + \"!\" \n",
    "    # \"+\"\" is used to concatenate the user input with \"Hello\" and \"!\"\n",
    "    print(outputMsg)\n",
    "\n",
    "myName = input(\"Enter name: \")\n",
    "\n",
    "greetUserName(myName)"
   ]
  },
  {
   "cell_type": "code",
   "execution_count": 24,
   "id": "3c566d08",
   "metadata": {},
   "outputs": [],
   "source": [
    "# power function\n",
    "def powerFunction (x, y, n):\n",
    "    return ((x+y)**n)"
   ]
  },
  {
   "cell_type": "code",
   "execution_count": 26,
   "id": "dd1f7782",
   "metadata": {},
   "outputs": [
    {
     "data": {
      "text/plain": [
       "144"
      ]
     },
     "execution_count": 26,
     "metadata": {},
     "output_type": "execute_result"
    }
   ],
   "source": [
    "powerFunction (5, 7, 2)"
   ]
  },
  {
   "cell_type": "code",
   "execution_count": 27,
   "id": "44a91b32",
   "metadata": {},
   "outputs": [],
   "source": [
    "# default parameters\n",
    "\n",
    "def make_pizza(topping = \"bacon\"): # bacon is the default topping\n",
    "    \"\"\"Make a single topping pizza\"\"\"\n",
    "    print(\"Have a \" + topping + \" pizza!\")"
   ]
  },
  {
   "cell_type": "code",
   "execution_count": 28,
   "id": "b7c59ff9",
   "metadata": {},
   "outputs": [
    {
     "name": "stdout",
     "output_type": "stream",
     "text": [
      "Have a bacon pizza!\n"
     ]
    }
   ],
   "source": [
    "make_pizza() # call the function"
   ]
  },
  {
   "cell_type": "code",
   "execution_count": 29,
   "id": "ca31716e",
   "metadata": {},
   "outputs": [
    {
     "name": "stdout",
     "output_type": "stream",
     "text": [
      "Have a pepperoni pizza!\n"
     ]
    }
   ],
   "source": [
    "# Exercise - how would we make a pepperoni pizza ?\n",
    "make_pizza(\"pepperoni\")"
   ]
  },
  {
   "cell_type": "code",
   "execution_count": 34,
   "id": "cb9d7f89",
   "metadata": {},
   "outputs": [
    {
     "name": "stdout",
     "output_type": "stream",
     "text": [
      "100\n"
     ]
    },
    {
     "ename": "NameError",
     "evalue": "name 'myVarL' is not defined",
     "output_type": "error",
     "traceback": [
      "\u001b[1;31m---------------------------------------------------------------------------\u001b[0m",
      "\u001b[1;31mNameError\u001b[0m                                 Traceback (most recent call last)",
      "\u001b[1;32m<ipython-input-34-e5f7245c31da>\u001b[0m in \u001b[0;36m<module>\u001b[1;34m\u001b[0m\n\u001b[0;32m     13\u001b[0m \u001b[0mmyVarG\u001b[0m \u001b[1;31m# display the GLOBAL variable (2nd display message)\u001b[0m\u001b[1;33m\u001b[0m\u001b[1;33m\u001b[0m\u001b[0m\n\u001b[0;32m     14\u001b[0m \u001b[1;33m\u001b[0m\u001b[0m\n\u001b[1;32m---> 15\u001b[1;33m \u001b[0mprint\u001b[0m\u001b[1;33m(\u001b[0m\u001b[0mmyVarL\u001b[0m\u001b[1;33m)\u001b[0m \u001b[1;31m# we get an error with this line as LOCAL variable is\u001b[0m\u001b[1;33m\u001b[0m\u001b[1;33m\u001b[0m\u001b[0m\n\u001b[0m\u001b[0;32m     16\u001b[0m \u001b[1;31m#OUT OF SCOPE\u001b[0m\u001b[1;33m\u001b[0m\u001b[1;33m\u001b[0m\u001b[1;33m\u001b[0m\u001b[0m\n",
      "\u001b[1;31mNameError\u001b[0m: name 'myVarL' is not defined"
     ]
    }
   ],
   "source": [
    "# global v. local scope\n",
    "\n",
    "myVarG = 100 # this is a GLOBAL variable\n",
    "\n",
    "def func():\n",
    "    \"\"\"Declare a local variable\"\"\"\n",
    "    myVarL = myVarG # myVarL is a LOCAL variable\n",
    "    print(myVarL) # 1st display message\n",
    "    return # this line is redundant\n",
    "\n",
    "func() # call the function\n",
    "\n",
    "myVarG # display the GLOBAL variable (2nd display message)\n",
    "\n",
    "#print(myVarL) # we get an error with this line as LOCAL variable is \n",
    "#OUT OF SCOPE"
   ]
  },
  {
   "cell_type": "code",
   "execution_count": 36,
   "id": "4a2431be",
   "metadata": {},
   "outputs": [
    {
     "data": {
      "text/plain": [
       "datetime.datetime(2022, 4, 21, 21, 31, 8, 184223)"
      ]
     },
     "execution_count": 36,
     "metadata": {},
     "output_type": "execute_result"
    }
   ],
   "source": [
    "# datetime functions\n",
    "\n",
    "import datetime # importing the python datetime library\n",
    "\n",
    "rightNow = datetime.datetime.now() # system time\n",
    "rightNow"
   ]
  },
  {
   "cell_type": "code",
   "execution_count": 37,
   "id": "90c893b2",
   "metadata": {},
   "outputs": [
    {
     "data": {
      "text/plain": [
       "2022"
      ]
     },
     "execution_count": 37,
     "metadata": {},
     "output_type": "execute_result"
    }
   ],
   "source": [
    "# current year\n",
    "rightNow.year"
   ]
  },
  {
   "cell_type": "code",
   "execution_count": null,
   "id": "7e136e10",
   "metadata": {},
   "outputs": [],
   "source": [
    "# Homework - create python code which prompts the user for their name\n",
    "# and age and displays a message saying when (i.e. what year) they will \n",
    "# be 100 years old do this as a function"
   ]
  }
 ],
 "metadata": {
  "kernelspec": {
   "display_name": "Python 3 (ipykernel)",
   "language": "python",
   "name": "python3"
  },
  "language_info": {
   "codemirror_mode": {
    "name": "ipython",
    "version": 3
   },
   "file_extension": ".py",
   "mimetype": "text/x-python",
   "name": "python",
   "nbconvert_exporter": "python",
   "pygments_lexer": "ipython3",
   "version": "3.9.7"
  }
 },
 "nbformat": 4,
 "nbformat_minor": 5
}
