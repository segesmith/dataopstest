{
 "cells": [
  {
   "cell_type": "markdown",
   "id": "772e56bb",
   "metadata": {},
   "source": [
    "#### Introduction to Python Training"
   ]
  },
  {
   "cell_type": "code",
   "execution_count": 1,
   "id": "d0a08507",
   "metadata": {},
   "outputs": [],
   "source": [
    "# our first Python code (THIS IS A COMMENT)\n",
    "# \"#\" in a CODE cell refers to a comment\n",
    "# in the previous MARKDOWN cell \"#\" refers to the SIZE of the heading"
   ]
  },
  {
   "cell_type": "code",
   "execution_count": 2,
   "id": "90aeb4e2",
   "metadata": {},
   "outputs": [
    {
     "name": "stdout",
     "output_type": "stream",
     "text": [
      "hello world!\n"
     ]
    }
   ],
   "source": [
    "print(\"hello world!\") # a simple display message"
   ]
  },
  {
   "cell_type": "code",
   "execution_count": 3,
   "id": "679883b2",
   "metadata": {},
   "outputs": [
    {
     "name": "stdout",
     "output_type": "stream",
     "text": [
      "Barry\n"
     ]
    }
   ],
   "source": [
    "# Exercise - please go ahead and print out your name\n",
    "print(\"Barry\")"
   ]
  },
  {
   "cell_type": "code",
   "execution_count": 4,
   "id": "7a36a7e8",
   "metadata": {},
   "outputs": [
    {
     "name": "stdout",
     "output_type": "stream",
     "text": [
      "\"hello world again!\"\n"
     ]
    }
   ],
   "source": [
    "# what if I want to print double quotes as well ?\n",
    "print('\"hello world again!\"')"
   ]
  },
  {
   "cell_type": "code",
   "execution_count": 6,
   "id": "ff8b6663",
   "metadata": {},
   "outputs": [
    {
     "name": "stdout",
     "output_type": "stream",
     "text": [
      "Hello with a \" inside a sentence\n"
     ]
    }
   ],
   "source": [
    "# use of a single \" inside a text string\n",
    "# (use of \\ as an ESCAPE character)\n",
    "print(\"Hello with a \\\" inside a sentence\")"
   ]
  },
  {
   "cell_type": "markdown",
   "id": "c4f0999b",
   "metadata": {},
   "source": [
    "#### Variables"
   ]
  },
  {
   "cell_type": "markdown",
   "id": "abb6e255",
   "metadata": {},
   "source": [
    "variable is a type of \"identfier\""
   ]
  },
  {
   "cell_type": "code",
   "execution_count": 7,
   "id": "bcce6f32",
   "metadata": {},
   "outputs": [
    {
     "name": "stdout",
     "output_type": "stream",
     "text": [
      "Barry\n"
     ]
    }
   ],
   "source": [
    "myVar = \"Barry\" # myVar is a variable, we are assigning \"Barry\" to myVar\n",
    "print(myVar)"
   ]
  },
  {
   "cell_type": "code",
   "execution_count": 8,
   "id": "4ad56494",
   "metadata": {
    "collapsed": true
   },
   "outputs": [
    {
     "ename": "SyntaxError",
     "evalue": "invalid syntax (<ipython-input-8-5791c8b4a845>, line 2)",
     "output_type": "error",
     "traceback": [
      "\u001b[1;36m  File \u001b[1;32m\"<ipython-input-8-5791c8b4a845>\"\u001b[1;36m, line \u001b[1;32m2\u001b[0m\n\u001b[1;33m    lambda = \"Barry\"\u001b[0m\n\u001b[1;37m           ^\u001b[0m\n\u001b[1;31mSyntaxError\u001b[0m\u001b[1;31m:\u001b[0m invalid syntax\n"
     ]
    }
   ],
   "source": [
    "# NB dont use Python keywords as variables!\n",
    "lambda = \"Barry\"\n",
    "print(lambda) "
   ]
  },
  {
   "cell_type": "markdown",
   "id": "3207e1b9",
   "metadata": {},
   "source": [
    "error is a result of lambda being a reserved Python keyword"
   ]
  },
  {
   "cell_type": "code",
   "execution_count": 9,
   "id": "fc881038",
   "metadata": {},
   "outputs": [
    {
     "name": "stdout",
     "output_type": "stream",
     "text": [
      "this is another message\n"
     ]
    }
   ],
   "source": [
    "# Exercise - please display another message, \n",
    "# using a variable and a comment\n",
    "myMsg = \"this is another message\" # myMsg is a variable, \n",
    "# we are assigning \"this is another message\" to myMsg\n",
    "print(myMsg)"
   ]
  },
  {
   "cell_type": "code",
   "execution_count": 10,
   "id": "430ff7a7",
   "metadata": {},
   "outputs": [
    {
     "name": "stdout",
     "output_type": "stream",
     "text": [
      "Enter name: Barry\n",
      "Hello Barry!\n"
     ]
    }
   ],
   "source": [
    "# user prompts - use the \"input\" keyword to ASK a user to input\n",
    "# a value we want to \"process\" afterwards\n",
    "\n",
    "myName = input(\"Enter name: \")\n",
    "\n",
    "outputMsg = \"Hello \" + myName + \"!\" \n",
    "# \"+\"\" is used to concatenate the user input with \"Hello\" and \"!\"\n",
    "\n",
    "print(outputMsg)"
   ]
  },
  {
   "cell_type": "code",
   "execution_count": null,
   "id": "895ccb7d",
   "metadata": {},
   "outputs": [],
   "source": [
    "# Exercise - see if you can write some Python code which prompts user\n",
    "# for their name, job role, company and then displays a message"
   ]
  },
  {
   "cell_type": "code",
   "execution_count": 11,
   "id": "2b571162",
   "metadata": {},
   "outputs": [
    {
     "name": "stdout",
     "output_type": "stream",
     "text": [
      "Enter name: Barry\n",
      "Enter role: Data Analyst\n",
      "Enter company: Pairview\n",
      "Hello Barry, you work as a Data Analyst at Pairview.\n"
     ]
    }
   ],
   "source": [
    "myName = input(\"Enter name: \")\n",
    "myJob = input(\"Enter role: \")\n",
    "myCompany = input(\"Enter company: \")\n",
    "\n",
    "print(\"Hello \" + myName + \", you work as a \" + myJob + \" at \" + myCompany + \".\")"
   ]
  },
  {
   "cell_type": "code",
   "execution_count": null,
   "id": "185db8c8",
   "metadata": {},
   "outputs": [],
   "source": []
  }
 ],
 "metadata": {
  "kernelspec": {
   "display_name": "Python 3 (ipykernel)",
   "language": "python",
   "name": "python3"
  },
  "language_info": {
   "codemirror_mode": {
    "name": "ipython",
    "version": 3
   },
   "file_extension": ".py",
   "mimetype": "text/x-python",
   "name": "python",
   "nbconvert_exporter": "python",
   "pygments_lexer": "ipython3",
   "version": "3.9.7"
  }
 },
 "nbformat": 4,
 "nbformat_minor": 5
}
